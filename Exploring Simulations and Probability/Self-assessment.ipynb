{
 "cells": [
  {
   "cell_type": "markdown",
   "metadata": {},
   "source": [
    "# Math Concepts for Developers\n",
    "## Final Project \n",
    "\n",
    "## Project name: \n",
    "## Project author:\n",
    "\n",
    "### Terms and conditions:\n",
    "* Use Jupyter notebook for text and maths. You can use any programming language you would like.\n",
    "* Write your research and code in English. Bulgarian is also acceptable but try to use English.\n",
    "* If you have sensitive, copyrighted, or copy-protected assets, including but not limited to, images, multimedia, code, documents, and datasets,\n",
    "  you can sign an NDA (non-disclosure agreement) with the SoftUni team. Contact the lecturer if you need assistance with the process.\n",
    "* Any code which does not comply with the Bulgarian law (as of the exam date), will be given zero points.\n",
    "* Any malicious code, or code intended to do harm to the user's computer, information, or privacy, will be given zero points.\n",
    "\n",
    "By submitting your project for the exam, you agree with these terms and conditions.\n",
    "\n",
    "### Self-assessment:\n",
    "The numbers in brackets define possible points for the corresponding item.\n",
    "Replace the numbers in brackets with your own estimation.\n",
    "** Example: **\n",
    "1. Problem statement: 7\n",
    "2. Problem description: 3\n",
    "(end of example)\n",
    "\n",
    "1. Problem statement (8)\n",
    "\t* How well is the problem defined?\n",
    "\t* Does the research address a real-life problem?\n",
    "\t* Does the research solve the correct problem?\n",
    "2. Layout (15)\n",
    "\t* Are the document sections structured properly?\n",
    "\t* Is the article well-formatted (in terms of readability)?\n",
    "3. Code quality (13)\n",
    "\t* Is the code well-written? Is the code self-documenting?\n",
    "\t* Is the code organized into functions?\n",
    "\t* Is the code generally well-structured?\n",
    "4. Previous research (9)\n",
    "\t* Have you cited at least two other sources?\n",
    "\t* Does the project contain comparisons between the current and the previous results?\n",
    "5. Gathering / generating, cleaning, and formatting data (7)\n",
    "\t* Every problem deals with \"real-world\" data in some way. Even if you don't use datasets, you'll likely generate some data\n",
    "\t* How is the data gathered?\n",
    "\t* Is the process statistically valid?\n",
    "\t* Is the process of data acquisition, data cleaning, and data manipulation well documented?\n",
    "6. Testing (8)\n",
    "\t* This can have various meanings: unit testing, hypothesis testing, train / test data set, etc.\n",
    "\t* Is the code thoroughly tested?\n",
    "\t* Are there any comparisons to other implementations / other articles / previous research?\n",
    "7. Visualization (8)\n",
    "\t* All kinds of projects employ some visualization: graphical plots, tables, etc.\n",
    "\t* Are all visualizations correct (i.e. convey the intended meaning without misleading the intended audience)?\n",
    "\t* Are all visualizations clear, and easy to understand?\n",
    "8. Communication (10)\n",
    "\t* Does the project tell the story correctly?\n",
    "\t* Does the project serve the audience it was intended for?"
   ]
  }
 ],
 "metadata": {
  "kernelspec": {
   "display_name": "Python 3",
   "language": "python",
   "name": "python3"
  },
  "language_info": {
   "codemirror_mode": {
    "name": "ipython",
    "version": 3
   },
   "file_extension": ".py",
   "mimetype": "text/x-python",
   "name": "python",
   "nbconvert_exporter": "python",
   "pygments_lexer": "ipython3",
   "version": "3.7.6"
  }
 },
 "nbformat": 4,
 "nbformat_minor": 4
}
